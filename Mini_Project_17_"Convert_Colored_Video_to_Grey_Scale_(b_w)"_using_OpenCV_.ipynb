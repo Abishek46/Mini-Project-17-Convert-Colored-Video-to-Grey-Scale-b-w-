{
  "nbformat": 4,
  "nbformat_minor": 0,
  "metadata": {
    "colab": {
      "provenance": [],
      "authorship_tag": "ABX9TyMWceJtsuRfAhNuBx8UaRRW",
      "include_colab_link": true
    },
    "kernelspec": {
      "name": "python3",
      "display_name": "Python 3"
    },
    "language_info": {
      "name": "python"
    }
  },
  "cells": [
    {
      "cell_type": "markdown",
      "metadata": {
        "id": "view-in-github",
        "colab_type": "text"
      },
      "source": [
        "<a href=\"https://colab.research.google.com/github/Abishek46/Mini-Project-17-Convert-Colored-Video-to-Grey-Scale-b-w-/blob/main/Mini_Project_17_%22Convert_Colored_Video_to_Grey_Scale_(b_w)%22_using_OpenCV_.ipynb\" target=\"_parent\"><img src=\"https://colab.research.google.com/assets/colab-badge.svg\" alt=\"Open In Colab\"/></a>"
      ]
    },
    {
      "cell_type": "code",
      "source": [
        "import cv2"
      ],
      "metadata": {
        "id": "G3USi1cxdFHS"
      },
      "execution_count": 7,
      "outputs": []
    },
    {
      "cell_type": "code",
      "source": [
        "input_file = '/content/countdown_-_6713 (540p).mp4'\n",
        "cap = cv2.VideoCapture(input_file)"
      ],
      "metadata": {
        "id": "VRZ0oNb8dG5_"
      },
      "execution_count": 8,
      "outputs": []
    },
    {
      "cell_type": "code",
      "source": [
        "output_file = 'output_video.mp4'\n",
        "fps = cap.get(cv2.CAP_PROP_FPS)\n",
        "width = int(cap.get(cv2.CAP_PROP_FRAME_WIDTH))\n",
        "height = int(cap.get(cv2.CAP_PROP_FRAME_HEIGHT))"
      ],
      "metadata": {
        "id": "ASM4acYMdVuB"
      },
      "execution_count": 9,
      "outputs": []
    },
    {
      "cell_type": "code",
      "source": [
        "fourcc = cv2.VideoWriter_fourcc(*'mp4v')  # Choose the codec based on the output file extension\n",
        "out = cv2.VideoWriter(output_file, fourcc, fps, (width, height), isColor=False)"
      ],
      "metadata": {
        "id": "ln2Iv7XxdZhS"
      },
      "execution_count": 10,
      "outputs": []
    },
    {
      "cell_type": "code",
      "source": [
        "cap.release()\n",
        "out.release()\n",
        "cv2.destroyAllWindows()"
      ],
      "metadata": {
        "id": "xunp0m2Kdsjk"
      },
      "execution_count": 12,
      "outputs": []
    },
    {
      "cell_type": "code",
      "source": [
        "import cv2\n",
        "\n",
        "input_file = '/content/countdown_-_6713 (540p).mp4'\n",
        "output_file = '/content/output_video.mp4'\n",
        "\n",
        "# Open the input video file\n",
        "video = cv2.VideoCapture(input_file)\n",
        "\n",
        "# Get the video's width, height, and frames per second (fps)\n",
        "width = int(video.get(cv2.CAP_PROP_FRAME_WIDTH))\n",
        "height = int(video.get(cv2.CAP_PROP_FRAME_HEIGHT))\n",
        "fps = video.get(cv2.CAP_PROP_FPS)\n",
        "\n",
        "# Define the codec for the output video\n",
        "fourcc = cv2.VideoWriter_fourcc(*'mp4v')\n",
        "\n",
        "# Create a VideoWriter object to save the output video\n",
        "output = cv2.VideoWriter(output_file, fourcc, fps, (width, height), isColor=False)\n",
        "\n",
        "# Process each frame of the input video\n",
        "while video.isOpened():\n",
        "    # Read the current frame\n",
        "    ret, frame = video.read()\n",
        "\n",
        "    if ret:\n",
        "        # Convert the frame to grayscale\n",
        "        gray_frame = cv2.cvtColor(frame, cv2.COLOR_BGR2GRAY)\n",
        "\n",
        "        # Write the grayscale frame to the output video\n",
        "        output.write(gray_frame)\n",
        "\n",
        "        # Exit if the 'q' key is pressed\n",
        "        if cv2.waitKey(1) & 0xFF == ord('q'):\n",
        "            break\n",
        "    else:\n",
        "        break\n",
        "\n",
        "# Release the video capture and writer objects\n",
        "video.release()\n",
        "output.release()\n",
        "\n",
        "# Close all OpenCV windows\n",
        "cv2.destroyAllWindows()"
      ],
      "metadata": {
        "id": "G0sJ1ZNzdyJj"
      },
      "execution_count": 15,
      "outputs": []
    }
  ]
}